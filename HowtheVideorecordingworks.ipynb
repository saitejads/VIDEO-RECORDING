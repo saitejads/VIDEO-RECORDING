{
 "cells": [
  {
   "cell_type": "markdown",
   "metadata": {},
   "source": [
    "# VIDEO RECORDING USING CV2 \n",
    "SAITEJA NAKKA"
   ]
  },
  {
   "cell_type": "markdown",
   "metadata": {},
   "source": [
""   ]
  },
  {
   "cell_type": "markdown",
   "metadata": {},
   "source": [
    "My understanding is that, video data is stored in the form of arrays of pixels, just like images. But the video's will have an another dimension 'time'. So, we can say that they are stored as the continuous pixel arrays."
   ]
  },
  {
   "cell_type": "markdown",
   "metadata": {},
   "source": [
    "So, with this idea, i just tried storing the arrays of pixels of a video recording. BOOM! I got it working."
   ]
  },
  {
   "cell_type": "markdown",
   "metadata": {},
   "source": [
    "In this code, I'm recording the video through the primary camera(My case it is laptop cam), it will be different cam if you have any recording device connected."
   ]
  },
  {
   "cell_type": "code",
   "execution_count": 28,
   "metadata": {},
   "outputs": [],
   "source": [
    "import numpy as np\n",
    "import cv2"
   ]
  },
  {
   "cell_type": "markdown",
   "metadata": {},
   "source": [
    "Below is the basic code to record the video using your primary camera."
   ]
  },
  {
   "cell_type": "markdown",
   "metadata": {},
   "source": [
    "I'm not gonna explain each part of this code. I hope you have some basic idea about opencv. If not, learn from here"
   ]
  },
  {
   "cell_type": "markdown",
   "metadata": {},
   "source": [
    "https://pythonprogramming.net/loading-images-python-opencv-tutorial/"
   ]
  },
  {
   "cell_type": "markdown",
   "metadata": {},
   "source": [
    "# RECORDING PART"
   ]
  },
  {
   "cell_type": "markdown",
   "metadata": {},
   "source": [
    "The below code has record_data variable, which stored the frame data every time frame. record_data will be a multi dimensional array of (Num of frames, Number of pixels in X axis, Number of pixels in Y axis, Number of channels)"
   ]
  },
  {
   "cell_type": "markdown",
   "metadata": {},
   "source": [
    "Num of frame depends on the length of your video resolution.\n",
    "\n",
    "Num of pixels in X and Y axis depends on the default camera resolution.(you can change it using Resize method as shown below).\n",
    "\n",
    "Number of channels is generally 3(BGR), if you use black and white/ grayscale it would be 1. ( you can change it using cv2.cvtcolor method)"
   ]
  },
  {
   "cell_type": "markdown",
   "metadata": {},
   "source": [
    "Opencv has weird closing options, you cannot simply click on the close icon on bar.\n",
    "\n",
    "In my code, I have chose the key 'q' to break from loop and close. So, click on key 'q' to exit the video recorder. You can change this key to your wish."
   ]
  },
  {
   "cell_type": "code",
   "execution_count": 29,
   "metadata": {},
   "outputs": [],
   "source": [
    "capture = cv2.VideoCapture(0)   #0 indicates the primary cam.\n",
    "\n",
    "data = []  #to store the frame data\n",
    "\n",
    "while(True):\n",
    "    _,frame = capture.read()\n",
    "    frame = cv2.resize(frame, (0,0),fx =1.5,fy=1.5)\n",
    "    data.append(frame)       #adding data every frame.\n",
    "    cv2.imshow(\"FRONT CAM\",frame)\n",
    "    \n",
    "    ch = cv2.waitKey(1)\n",
    "    if ch & 0xFF == ord('q'):  #window closing conditions.(Google it to understand better)\n",
    "        break\n",
    "capture.release()\n",
    "cv2.destroyAllWindows()\n",
    "    "
   ]
  },
  {
   "cell_type": "markdown",
   "metadata": {},
   "source": [
    "Convert the data to numpy array."
   ]
  },
  {
   "cell_type": "code",
   "execution_count": 30,
   "metadata": {},
   "outputs": [],
   "source": [
    "data = np.array(data)"
   ]
  },
  {
   "cell_type": "markdown",
   "metadata": {},
   "source": [
    "Lets look at the shape of the data we stored(Captured).\n",
    "\n",
    "The format/shape would be Num of frame, num of X axis pixels, Y axis pixels, num of channels."
   ]
  },
  {
   "cell_type": "code",
   "execution_count": 31,
   "metadata": {},
   "outputs": [
    {
     "data": {
      "text/plain": [
       "(135, 720, 960, 3)"
      ]
     },
     "execution_count": 31,
     "metadata": {},
     "output_type": "execute_result"
    }
   ],
   "source": [
    "data.shape"
   ]
  },
  {
   "cell_type": "markdown",
   "metadata": {},
   "source": [
    "If you dont believe the data we generated, have a look at it. \n",
    "\n",
    "Lets see the first frame we recorded. The video data is nothing but the array of pixels.(as i said many times)"
   ]
  },
  {
   "cell_type": "code",
   "execution_count": 32,
   "metadata": {
    "scrolled": true
   },
   "outputs": [
    {
     "data": {
      "text/plain": [
       "array([[[[10,  0,  6],\n",
       "         [10,  0,  6],\n",
       "         [10,  0,  6],\n",
       "         ...,\n",
       "         [10,  0,  6],\n",
       "         [10,  0,  6],\n",
       "         [10,  0,  6]],\n",
       "\n",
       "        [[10,  0,  6],\n",
       "         [10,  0,  6],\n",
       "         [10,  0,  6],\n",
       "         ...,\n",
       "         [10,  0,  6],\n",
       "         [10,  0,  6],\n",
       "         [10,  0,  6]],\n",
       "\n",
       "        [[10,  0,  6],\n",
       "         [10,  0,  6],\n",
       "         [10,  0,  6],\n",
       "         ...,\n",
       "         [10,  0,  6],\n",
       "         [10,  0,  6],\n",
       "         [10,  0,  6]],\n",
       "\n",
       "        ...,\n",
       "\n",
       "        [[ 8,  0,  5],\n",
       "         [ 8,  0,  5],\n",
       "         [ 8,  0,  5],\n",
       "         ...,\n",
       "         [ 6,  1,  5],\n",
       "         [ 6,  1,  5],\n",
       "         [ 6,  1,  5]],\n",
       "\n",
       "        [[ 8,  0,  5],\n",
       "         [ 8,  0,  5],\n",
       "         [ 8,  0,  5],\n",
       "         ...,\n",
       "         [ 6,  1,  5],\n",
       "         [ 6,  1,  5],\n",
       "         [ 6,  1,  5]],\n",
       "\n",
       "        [[ 8,  0,  5],\n",
       "         [ 8,  0,  5],\n",
       "         [ 8,  0,  5],\n",
       "         ...,\n",
       "         [ 6,  1,  5],\n",
       "         [ 6,  1,  5],\n",
       "         [ 6,  1,  5]]]], dtype=uint8)"
      ]
     },
     "execution_count": 32,
     "metadata": {},
     "output_type": "execute_result"
    }
   ],
   "source": [
    "data[:1,:]"
   ]
  },
  {
   "cell_type": "markdown",
   "metadata": {},
   "source": [
    "# DISPLAYING PART."
   ]
  },
  {
   "cell_type": "markdown",
   "metadata": {},
   "source": [
    "It is my Own part. :D\n",
    "\n",
    "Now, loop through the data we recorded and display it using cv2.imshow.\n",
    "\n",
    "The reason why I used variable 'c' is to end displaying the recorded data just before the last frame because I dont know why the process hangs after the last frame. It doesnt close up automatically, the screen just hangs. (You know just Opencv things :P)\n",
    "\n",
    "So, i introduced this odd looking loop control code."
   ]
  },
  {
   "cell_type": "code",
   "execution_count": 33,
   "metadata": {},
   "outputs": [
    {
     "name": "stdout",
     "output_type": "stream",
     "text": [
      "SKIPPED THE LAST FRAME\n"
     ]
    }
   ],
   "source": [
    "c =1\n",
    "for dt in data:\n",
    "    cv2.imshow(\"Frame\",dt)\n",
    "    c = c + 1\n",
    "    if(c>(len(data)-1)):\n",
    "        print(\"SKIPPED THE LAST FRAME\")\n",
    "        cv2.destroyAllWindows()\n",
    "        break\n",
    "    if cv2.waitKey(25) & 0xFF == ord('q'):\n",
    "            cv2.destroyAllWindows()\n",
    "            break  "
   ]
  },
  {
   "cell_type": "markdown",
   "metadata": {},
   "source": [
    "#  NOTES:"
   ]
  },
  {
   "cell_type": "markdown",
   "metadata": {},
   "source": [
    "1) The FPS is faster in displaying, you feel like its playing in 1.25x. Dont know why.\n",
    "2) You can save this to file system.\n",
    "\n",
    "So, this how the video recording will be done. (to my understanding)\n",
    "\n",
    "THANK YOU!"
   ]
  }
 ],
 "metadata": {
  "kernelspec": {
   "display_name": "Python 3",
   "language": "python",
   "name": "python3"
  }
 },
 "nbformat": 4,
 "nbformat_minor": 2
}
